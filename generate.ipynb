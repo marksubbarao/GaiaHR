{
 "cells": [
  {
   "cell_type": "markdown",
   "metadata": {},
   "source": [
    "# Gaia HR\n",
    "\n",
    "### Nearby Gaia Stars with proper motions (some radial velocities) wwith a morphing HR diagram\n",
    "\n",
    "Jackie Faherty AMNH, Aaron Geller, Mark SubbaRao, Adler Planetarium."
   ]
  },
  {
   "cell_type": "markdown",
   "metadata": {},
   "source": [
    "### Imports and function definitions"
   ]
  },
  {
   "cell_type": "code",
   "execution_count": 2,
   "metadata": {},
   "outputs": [],
   "source": [
    "#This directory contains all the data needed for the module. It should be in the same directory as the notebook\n",
    "dataFolder = \"data\" \n",
    "import sys, os, shutil, errno, string, urllib\n",
    "\n",
    "\n",
    "sys.path.append(( os.path.abspath( os.path.join(os.path.realpath(\"__file__\"), os.pardir, os.pardir) )))\n",
    "import uvmodlib.v1 as uvmod"
   ]
  },
  {
   "cell_type": "code",
   "execution_count": 15,
   "metadata": {},
   "outputs": [],
   "source": [
    "from config import Settings\n",
    "Settings.uvcustommodulelocation='C:\\\\Users\\\\msubbarao\\\\SCISS\\\\Uniview Theater 3.0\\\\Custom Modules'"
   ]
  },
  {
   "cell_type": "markdown",
   "metadata": {},
   "source": [
    "### USES Conf Template for Gaia HR"
   ]
  },
  {
   "cell_type": "code",
   "execution_count": 362,
   "metadata": {},
   "outputs": [],
   "source": [
    "GaiaHRTemplate='''mesh\n",
    "{\n",
    "   data gaiaData    ./modules/$folderName/GaiaHR.uvstream\n",
    "   data graphObject    ./modules/$folderName/quad.3ds\n",
    "\n",
    "    cullRadius $cr\n",
    "    glslVersion 330\n",
    "\n",
    "    propertyCollection\n",
    "    {\n",
    "        __objectName__\n",
    "        {\n",
    "            vec1f HRmix 0.0 | public | desc \"mixing angle for HR diagram (0 is star positions, 1 is HR diagram)\"  | widget slider | range 0 1         \n",
    "            vec1f starSize 1.0 | public | desc \" star size\" \n",
    "            vec1f diagramType 0.0 | public | desc \"0: M(G) vs. G-Rp,1: MG vs. G-W2, 2: M(W2) vs. W1-W2\" | widget slider | range 0 3\n",
    "        }\n",
    "\n",
    "    }\n",
    "    \n",
    "    pass \n",
    "    {\n",
    "        passEnable true\n",
    "\n",
    "        useDataObject gaiaData\n",
    "\n",
    "        shader\n",
    "        {\n",
    "            type defaultMeshShader\n",
    "            {        \n",
    "                stateManagerVar __objectName__.Alpha uv_alpha\n",
    "                StateManagerVar __objectName__.starSize starSize\n",
    "                StateManagerVar __objectName__.HRmix HRmix\n",
    "                StateManagerVar __objectName__.diagramType diagramType\n",
    "\n",
    "                vertexShader ./modules/$folderName/gaia_shader.vs\n",
    "                fragmentShader ./modules/$folderName/gaia_shader.fs                \n",
    "                geometryShader ./modules/$folderName/gaia_shader.gs\n",
    "                texture bb ./modules/$folderName/bb.png\n",
    "                {\n",
    "                    wrapModeS GL_CLAMP_TO_EDGE\n",
    "                    wrapModeR GL_CLAMP_TO_EDGE\n",
    "                }\n",
    "\n",
    "                glState\n",
    "                {\n",
    "                    UV_CULL_FACE_ENABLE false\n",
    "                    UV_DEPTH_ENABLE true\n",
    "                    UV_BLEND_ENABLE true\n",
    "                    UV_WRITE_MASK_DEPTH true\n",
    "                    #UV_BLEND_FUNC GL_ONE GL_ONE_MINUS_SRC_ALPHA\n",
    "                }\n",
    "             }\n",
    "        }\n",
    "    }\n",
    "    pass \n",
    "    {\n",
    "        passEnable true\n",
    "\n",
    "        useDataObject graphObject\n",
    "\n",
    "        shader\n",
    "        {\n",
    "            type defaultMeshShader\n",
    "            {        \n",
    "                stateManagerVar __objectName__.Alpha uv_alpha\n",
    "                StateManagerVar __objectName__.HRmix HRmix\n",
    "                StateManagerVar __objectName__.diagramType diagramType\n",
    "\n",
    "                vertexShader ./modules/$folderName/graphPass.vs\n",
    "                fragmentShader ./modules/$folderName/graph_shader.fs                \n",
    "                texture axes1 ./modules/$folderName/axes1.png\n",
    "                {\n",
    "                    wrapModeS GL_CLAMP_TO_EDGE\n",
    "                    wrapModeR GL_CLAMP_TO_EDGE\n",
    "                }\n",
    "                texture axes2 ./modules/$folderName/axes2.png\n",
    "                {\n",
    "                    wrapModeS GL_CLAMP_TO_EDGE\n",
    "                    wrapModeR GL_CLAMP_TO_EDGE\n",
    "                }\n",
    "                texture axes3 ./modules/$folderName/axes3.png\n",
    "                {\n",
    "                    wrapModeS GL_CLAMP_TO_EDGE\n",
    "                    wrapModeR GL_CLAMP_TO_EDGE\n",
    "                }\n",
    "\n",
    "                glState\n",
    "                {\n",
    "                    UV_CULL_FACE_ENABLE false\n",
    "                    UV_DEPTH_ENABLE true\n",
    "                    UV_BLEND_ENABLE true\n",
    "                    UV_WRITE_MASK_DEPTH true\n",
    "                    #UV_BLEND_FUNC GL_ONE GL_ONE_MINUS_SRC_ALPHA\n",
    "                }\n",
    "             }\n",
    "        }\n",
    "    }\n",
    "}\n",
    "\n",
    "'''"
   ]
  },
  {
   "cell_type": "markdown",
   "metadata": {},
   "source": [
    "## UVStream"
   ]
  },
  {
   "cell_type": "code",
   "execution_count": 363,
   "metadata": {},
   "outputs": [],
   "source": [
    "UVSTREAM='''<?xml version=\"1.0\" encoding=\"UTF-8\" standalone=\"no\"?>\n",
    "<DataStream version=\"0.1\">\n",
    "    <PrimitiveType>points</PrimitiveType>\n",
    "    <DataBindings>\n",
    "        <Variable>\n",
    "            <Name>starPositions</Name>         \n",
    "            <Type>vec3f</Type>\n",
    "        </Variable>             \n",
    "        <Variable>\n",
    "            <Name>starVelocities</Name>         \n",
    "            <Type>vec3f</Type>\n",
    "        </Variable>             \n",
    "        <Variable>\n",
    "            <Name>dist</Name>         \n",
    "            <Type>float</Type>\n",
    "        </Variable>             \n",
    "        <Variable>\n",
    "            <Name>pmRA</Name>         \n",
    "            <Type>float</Type>\n",
    "        </Variable>             \n",
    "        <Variable>\n",
    "            <Name>pmDec</Name>         \n",
    "            <Type>float</Type>\n",
    "        </Variable>             \n",
    "         <Variable>\n",
    "            <Name>distMod</Name>         \n",
    "            <Type>float</Type>\n",
    "        </Variable>             \n",
    "        <Variable>\n",
    "            <Name>gmag</Name>         \n",
    "            <Type>float</Type>\n",
    "        </Variable>             \n",
    "        <Variable>\n",
    "            <Name>rpmag</Name>         \n",
    "            <Type>float</Type>\n",
    "        </Variable>             \n",
    "        <Variable>\n",
    "            <Name>bpmag</Name>         \n",
    "            <Type>float</Type>\n",
    "        </Variable>             \n",
    "        <Variable>\n",
    "            <Name>w1mag</Name>         \n",
    "            <Type>float</Type>\n",
    "        </Variable>             \n",
    "        <Variable>\n",
    "            <Name>w2mag</Name>         \n",
    "            <Type>float</Type>\n",
    "        </Variable>             \n",
    "    </DataBindings>\n",
    "\n",
    "    <CSVData>\n",
    "        <Path>20pcsample-WISE_forUniview.csv</Path>\n",
    "        <Headers>\n",
    "            <Variable>              \n",
    "                <Cols>0,1,2</Cols>\n",
    "            </Variable>\n",
    "            <Variable>              \n",
    "                <Cols>3,4,5</Cols>\n",
    "            </Variable>                     \n",
    "            <Variable>             \n",
    "                <Cols>6</Cols>\n",
    "            </Variable>                     \n",
    "            <Variable>              \n",
    "                <Cols>7</Cols>\n",
    "            </Variable>                     \n",
    "             <Variable>              \n",
    "                <Cols>8</Cols>\n",
    "            </Variable>                     \n",
    "            <Variable>              \n",
    "                <Cols>9</Cols>\n",
    "            </Variable>                     \n",
    "            <Variable>              \n",
    "                <Cols>10</Cols>\n",
    "            </Variable>                     \n",
    "            <Variable>              \n",
    "                <Cols>11</Cols>\n",
    "            </Variable>                     \n",
    "            <Variable>              \n",
    "                <Cols>12</Cols>\n",
    "            </Variable>                     \n",
    "            <Variable>              \n",
    "                <Cols>13</Cols>\n",
    "            </Variable>                     \n",
    "            <Variable>             \n",
    "                <Cols>14</Cols>\n",
    "            </Variable>                     \n",
    "         </Headers>\n",
    "    </CSVData>\n",
    "</DataStream>  \n",
    "'''"
   ]
  },
  {
   "cell_type": "code",
   "execution_count": 364,
   "metadata": {},
   "outputs": [],
   "source": [
    "uvStreamFile=open('data/GaiaHR.uvstream','w')\n",
    "uvStreamFile.write(UVSTREAM)\n",
    "uvStreamFile.close()"
   ]
  },
  {
   "cell_type": "markdown",
   "metadata": {},
   "source": [
    "### GaiaHR Class"
   ]
  },
  {
   "cell_type": "code",
   "execution_count": 365,
   "metadata": {},
   "outputs": [],
   "source": [
    "class gaiaHRClass():\n",
    "    def __init__(self, object):\n",
    "        self.object = object\n",
    "        uvmod.Utility.ensurerelativepathexsists(\"gaia_shader.gs\",dataFolder)\n",
    "        uvmod.Utility.ensurerelativepathexsists(\"gaia_shader.vs\",dataFolder)\n",
    "        uvmod.Utility.ensurerelativepathexsists(\"gaia_shader.fs\",dataFolder)\n",
    "        self.ColorMultiplier = \"1 1 1 1\"\n",
    "        self.Scale = 1\n",
    "        self.cr = 1000\n",
    "    def setColorMultiplier(self,ColorMultiplier):\n",
    "        self.ColorMultiplier = \" \".join(str(c) for c in ColorMultiplier)\n",
    "    def setScale(self,Scale):\n",
    "        self.Scale = Scale\n",
    "    def setRotationAngle(self,RotationAngle):\n",
    "        self.RotationAngle = RotationAngle\n",
    "    def generatemod(self):\n",
    "        self.object.setgeometry(self.object.name+\"Mesh.usesconf\")\n",
    "        return self.object.generatemod()\n",
    "    def generatefiles(self, absOutDir, relOutDir):\n",
    "        fileName = self.object.name+\"Mesh.usesconf\"\n",
    "        s = string.Template(GaiaHRTemplate)\n",
    "        f = open(absOutDir+\"\\\\\"+fileName, 'w')\n",
    "        if f:\n",
    "            f.write(s.substitute(folderName = relOutDir,\n",
    "                                 cr = self.cr,\n",
    "                                 ColorMultiplier = self.ColorMultiplier,\n",
    "                                 Scale = self.Scale))\n",
    "            f.close()\n",
    "        uvmod.Utility.copyfoldercontents(os.getcwd()+\"\\\\\"+dataFolder, absOutDir)"
   ]
  },
  {
   "cell_type": "markdown",
   "metadata": {},
   "source": [
    "### Object Instantiation"
   ]
  },
  {
   "cell_type": "code",
   "execution_count": 366,
   "metadata": {},
   "outputs": [],
   "source": [
    "gaiaHR = gaiaHRClass(uvmod.OrbitalObject())\n",
    "generator = uvmod.Generator()\n",
    "scene = uvmod.Scene()\n",
    "modinfo = uvmod.ModuleInformation()"
   ]
  },
  {
   "cell_type": "markdown",
   "metadata": {},
   "source": [
    "### Specify Settings and generate the module"
   ]
  },
  {
   "cell_type": "code",
   "execution_count": 367,
   "metadata": {},
   "outputs": [],
   "source": [
    "gaiaHR.object.showatstartup(True)\n",
    "gaiaHR.object.setcameraradius(10)\n",
    "gaiaHR.object.setcoord(\"MilkyWay\")\n",
    "gaiaHR.object.setname(\"GaiaHR\")\n",
    "gaiaHR.object.setguiname(\"/Milky Way/GaiaHR\")\n",
    "gaiaHR.object.settargetradius(20)\n",
    "gaiaHR.object.showatstartup(False)\n",
    "gaiaHR.setColorMultiplier((1.,1.,1.,1.))\n",
    "gaiaHR.cr = 100\n",
    "\n",
    "\n",
    "modinfo.setname(\"Gaia HR diagram\")\n",
    "modinfo.setauthor(\"Jackie Faherty<sup>1</sup>Mark SubbaRao<sup>2</sup> and Aaron Gellers<sup>2</sup><br />(1)AMNH,<br />(2)Adler Planetarium\")\n",
    "modinfo.cleardependencies()\n",
    "modinfo.setdesc(\"Nearby Stars from the Gaia Survey <br/> \")\n",
    "#modinfo.setthumbnail(\"data/thumb.png\")\n",
    "modinfo.setversion(\"1.0\")\n",
    "\n",
    "generator.generate(\"gaiaHR\",[],[gaiaHR],modinfo)\n",
    "uvmod.Utility.senduvcommand(gaiaHR.object.name+\".reload\")\n"
   ]
  },
  {
   "cell_type": "markdown",
   "metadata": {},
   "source": [
    "### Helper Functions for modifing code\n",
    "##### Reload Module and Shaders in Uniview"
   ]
  },
  {
   "cell_type": "code",
   "execution_count": 20,
   "metadata": {
    "scrolled": true
   },
   "outputs": [],
   "source": [
    "uvmod.Utility.senduvcommand(neutrinoSky.object.name+\".reload\")"
   ]
  },
  {
   "cell_type": "markdown",
   "metadata": {},
   "source": [
    "Copy modified Shader files and reload"
   ]
  },
  {
   "cell_type": "code",
   "execution_count": 28,
   "metadata": {},
   "outputs": [],
   "source": [
    "from config import Settings\n"
   ]
  },
  {
   "cell_type": "code",
   "execution_count": 376,
   "metadata": {
    "scrolled": true
   },
   "outputs": [],
   "source": [
    "uvmod.Utility.copyfoldercontents(os.getcwd()+\"\\\\\"+dataFolder, Settings.uvcustommodulelocation+'\\\\'+gaiaHR.object.name)\n",
    "uvmod.Utility.senduvcommand(gaiaHR.object.name+\".reload\")"
   ]
  },
  {
   "cell_type": "markdown",
   "metadata": {
    "collapsed": true
   },
   "source": [
    "## Data Analysis"
   ]
  },
  {
   "cell_type": "code",
   "execution_count": 103,
   "metadata": {},
   "outputs": [],
   "source": [
    "from astropy.io import ascii\n",
    "from astropy.table import Table, Column"
   ]
  },
  {
   "cell_type": "code",
   "execution_count": 108,
   "metadata": {},
   "outputs": [],
   "source": [
    "dataTable=ascii.read(\"data/20pcsample-WISE_forUniview.csv\")"
   ]
  },
  {
   "cell_type": "code",
   "execution_count": 144,
   "metadata": {
    "scrolled": true
   },
   "outputs": [
    {
     "data": {
      "image/png": "[encoded data removed]",
      "text/plain": [
       "<Figure size 864x576 with 1 Axes>"
      ]
     },
     "metadata": {
      "needs_background": "light"
     },
     "output_type": "display_data"
    }
   ],
   "source": [
    "%matplotlib inline\n",
    "import matplotlib.pyplot as plt\n",
    "fig, ax = plt.subplots(figsize=(12, 8))\n",
    "ax.scatter(dataTable['col10'] - dataTable['col11'], dataTable['col9'],  c=color, s=10, label=color,\n",
    "               alpha=0.3, edgecolors='none')\n",
    "plt.xlim(-1, 4)\n",
    "plt.ylim(28,0)\n",
    "plt.xlabel('m_g - m_r')\n",
    "plt.ylabel('M(g)')\n",
    "ax.grid(True)\n",
    "\n",
    "plt.show()"
   ]
  },
  {
   "cell_type": "code",
   "execution_count": 332,
   "metadata": {
    "scrolled": true
   },
   "outputs": [
    {
     "data": {
      "image/png": "[encoded data removed]",
      "text/plain": [
       "<Figure size 576x360 with 1 Axes>"
      ]
     },
     "metadata": {
      "needs_background": "light"
     },
     "output_type": "display_data"
    }
   ],
   "source": [
    "%matplotlib inline\n",
    "import matplotlib.pyplot as plt\n",
    "import matplotlib.pylab as pylab\n",
    "pparams = {'legend.fontsize': 'x-large',\n",
    "          'figure.figsize': (32, 20),\n",
    "         'axes.labelsize': 'x-large',\n",
    "         'axes.titlesize':'x-large',\n",
    "         'axes.linewidth':'x-large',\n",
    "         'ytick.labelsize':'x-large'}\n",
    "pylab.rcParams.update(params)\n",
    "fig, ax = plt.subplots(figsize=(8, 5))\n",
    "plt.xlim(-0.5, 2.5)\n",
    "plt.ylim(24,0)\n",
    "plt.setp(ax.spines.values(), linewidth=3)\n",
    "plt.xlabel('G - W2', fontsize=18)\n",
    "plt.ylabel('M(G)', fontsize=18)\n",
    "ax.grid(True, linewidth=3)\n",
    "plt.savefig('axes.png',dpi=150)\n",
    "plt.show()\n"
   ]
  },
  {
   "cell_type": "code",
   "execution_count": 351,
   "metadata": {},
   "outputs": [
    {
     "data": {
      "image/png": "[encoded data removed]",
      "text/plain": [
       "<Figure size 576x360 with 1 Axes>"
      ]
     },
     "metadata": {
      "needs_background": "light"
     },
     "output_type": "display_data"
    }
   ],
   "source": [
    "fig, ax = plt.subplots(figsize=(8, 5))\n",
    "plt.xlim(-3.0, 9.0)\n",
    "plt.ylim(24,0)\n",
    "plt.setp(ax.spines.values(), linewidth=3)\n",
    "plt.xlabel('G - W2', fontsize=18)\n",
    "plt.ylabel('M(G)', fontsize=18)\n",
    "ax.grid(True, linewidth=3)\n",
    "plt.savefig('axes2.png',dpi=150)\n",
    "plt.show()"
   ]
  },
  {
   "cell_type": "code",
   "execution_count": 353,
   "metadata": {},
   "outputs": [
    {
     "data": {
      "image/png": "[encoded data removed]",
      "text/plain": [
       "<Figure size 576x360 with 1 Axes>"
      ]
     },
     "metadata": {
      "needs_background": "light"
     },
     "output_type": "display_data"
    }
   ],
   "source": [
    "fig, ax = plt.subplots(figsize=(8, 5))\n",
    "plt.xlim(-2.0, 5.0)\n",
    "plt.ylim(18,2)\n",
    "plt.setp(ax.spines.values(), linewidth=3)\n",
    "plt.xlabel('W1 - W2', fontsize=18)\n",
    "plt.ylabel('M(W2)', fontsize=18)\n",
    "ax.grid(True, linewidth=3)\n",
    "plt.savefig('axes3.png',dpi=150)\n",
    "plt.show()"
   ]
  },
  {
   "cell_type": "code",
   "execution_count": 130,
   "metadata": {},
   "outputs": [],
   "source": [
    "from astropy.io import fits"
   ]
  },
  {
   "cell_type": "code",
   "execution_count": 138,
   "metadata": {},
   "outputs": [],
   "source": [
    "hdu_list = fits.open('gaiadr2_20pc.fits')"
   ]
  },
  {
   "cell_type": "code",
   "execution_count": 140,
   "metadata": {},
   "outputs": [
    {
     "name": "stdout",
     "output_type": "stream",
     "text": [
      "ColDefs(\n",
      "    name = 'solution_id'; format = 'K'\n",
      "    name = 'designation'; format = '28A'\n",
      "    name = 'source_id'; format = 'K'\n",
      "    name = 'random_index'; format = 'K'\n",
      "    name = 'ref_epoch'; format = 'D'; unit = 'yr'\n",
      "    name = 'ra'; format = 'D'; unit = 'deg'\n",
      "    name = 'ra_error'; format = 'D'; unit = 'mas'\n",
      "    name = 'dec'; format = 'D'; unit = 'deg'\n",
      "    name = 'dec_error'; format = 'D'; unit = 'mas'\n",
      "    name = 'parallax'; format = 'D'; unit = 'mas'\n",
      "    name = 'parallax_error'; format = 'D'; unit = 'mas'\n",
      "    name = 'parallax_over_error'; format = 'E'\n",
      "    name = 'pmra'; format = 'D'; unit = 'mas.yr**-1'\n",
      "    name = 'pmra_error'; format = 'D'; unit = 'mas.yr**-1'\n",
      "    name = 'pmdec'; format = 'D'; unit = 'mas.yr**-1'\n",
      "    name = 'pmdec_error'; format = 'D'; unit = 'mas.yr**-1'\n",
      "    name = 'ra_dec_corr'; format = 'E'\n",
      "    name = 'ra_parallax_corr'; format = 'E'\n",
      "    name = 'ra_pmra_corr'; format = 'E'\n",
      "    name = 'ra_pmdec_corr'; format = 'E'\n",
      "    name = 'dec_parallax_corr'; format = 'E'\n",
      "    name = 'dec_pmra_corr'; format = 'E'\n",
      "    name = 'dec_pmdec_corr'; format = 'E'\n",
      "    name = 'parallax_pmra_corr'; format = 'E'\n",
      "    name = 'parallax_pmdec_corr'; format = 'E'\n",
      "    name = 'pmra_pmdec_corr'; format = 'E'\n",
      "    name = 'astrometric_n_obs_al'; format = 'J'\n",
      "    name = 'astrometric_n_obs_ac'; format = 'J'\n",
      "    name = 'astrometric_n_good_obs_al'; format = 'J'\n",
      "    name = 'astrometric_n_bad_obs_al'; format = 'J'\n",
      "    name = 'astrometric_gof_al'; format = 'E'\n",
      "    name = 'astrometric_chi2_al'; format = 'E'\n",
      "    name = 'astrometric_excess_noise'; format = 'D'; unit = 'mas'\n",
      "    name = 'astrometric_excess_noise_sig'; format = 'D'\n",
      "    name = 'astrometric_params_solved'; format = 'I'\n",
      "    name = 'astrometric_primary_flag'; format = 'L'\n",
      "    name = 'astrometric_weight_al'; format = 'E'; unit = 'mas**-2'\n",
      "    name = 'astrometric_pseudo_colour'; format = 'D'; unit = 'um**-1'\n",
      "    name = 'astrometric_pseudo_colour_error'; format = 'D'; unit = 'um**-1'\n",
      "    name = 'mean_varpi_factor_al'; format = 'E'\n",
      "    name = 'astrometric_matched_observations'; format = 'I'\n",
      "    name = 'visibility_periods_used'; format = 'I'\n",
      "    name = 'astrometric_sigma5d_max'; format = 'E'; unit = 'mas'\n",
      "    name = 'frame_rotator_object_type'; format = 'J'\n",
      "    name = 'matched_observations'; format = 'I'\n",
      "    name = 'duplicated_source'; format = 'L'\n",
      "    name = 'phot_g_n_obs'; format = 'J'\n",
      "    name = 'phot_g_mean_flux'; format = 'D'; unit = \"'electron'.s**-1\"\n",
      "    name = 'phot_g_mean_flux_error'; format = 'D'; unit = \"'electron'.s**-1\"\n",
      "    name = 'phot_g_mean_flux_over_error'; format = 'E'\n",
      "    name = 'phot_g_mean_mag'; format = 'E'; unit = 'mag'\n",
      "    name = 'phot_bp_n_obs'; format = 'J'\n",
      "    name = 'phot_bp_mean_flux'; format = 'D'; unit = \"'electron'.s**-1\"\n",
      "    name = 'phot_bp_mean_flux_error'; format = 'D'; unit = \"'electron'.s**-1\"\n",
      "    name = 'phot_bp_mean_flux_over_error'; format = 'E'\n",
      "    name = 'phot_bp_mean_mag'; format = 'E'; unit = 'mag'\n",
      "    name = 'phot_rp_n_obs'; format = 'J'\n",
      "    name = 'phot_rp_mean_flux'; format = 'D'; unit = \"'electron'.s**-1\"\n",
      "    name = 'phot_rp_mean_flux_error'; format = 'D'; unit = \"'electron'.s**-1\"\n",
      "    name = 'phot_rp_mean_flux_over_error'; format = 'E'\n",
      "    name = 'phot_rp_mean_mag'; format = 'E'; unit = 'mag'\n",
      "    name = 'phot_bp_rp_excess_factor'; format = 'E'\n",
      "    name = 'phot_proc_mode'; format = 'I'\n",
      "    name = 'bp_rp'; format = 'E'; unit = 'mag'\n",
      "    name = 'bp_g'; format = 'E'; unit = 'mag'\n",
      "    name = 'g_rp'; format = 'E'; unit = 'mag'\n",
      "    name = 'radial_velocity'; format = 'D'; unit = 'km.s**-1'\n",
      "    name = 'radial_velocity_error'; format = 'D'; unit = 'km.s**-1'\n",
      "    name = 'rv_nb_transits'; format = 'J'\n",
      "    name = 'rv_template_teff'; format = 'E'; unit = 'K'\n",
      "    name = 'rv_template_logg'; format = 'E'; unit = 'log(cm.s**-2)'\n",
      "    name = 'rv_template_fe_h'; format = 'E'; unit = 'dex'\n",
      "    name = 'phot_variable_flag'; format = '13A'\n",
      "    name = 'l'; format = 'D'; unit = 'deg'\n",
      "    name = 'b'; format = 'D'; unit = 'deg'\n",
      "    name = 'ecl_lon'; format = 'D'; unit = 'deg'\n",
      "    name = 'ecl_lat'; format = 'D'; unit = 'deg'\n",
      "    name = 'priam_flags'; format = 'K'; null = -9223372036854775808\n",
      "    name = 'teff_val'; format = 'E'; unit = 'K'\n",
      "    name = 'teff_percentile_lower'; format = 'E'; unit = 'K'\n",
      "    name = 'teff_percentile_upper'; format = 'E'; unit = 'K'\n",
      "    name = 'a_g_val'; format = 'E'; unit = 'mag'\n",
      "    name = 'a_g_percentile_lower'; format = 'E'; unit = 'mag'\n",
      "    name = 'a_g_percentile_upper'; format = 'E'; unit = 'mag'\n",
      "    name = 'e_bp_min_rp_val'; format = 'E'; unit = 'mag'\n",
      "    name = 'e_bp_min_rp_percentile_lower'; format = 'E'; unit = 'mag'\n",
      "    name = 'e_bp_min_rp_percentile_upper'; format = 'E'; unit = 'mag'\n",
      "    name = 'flame_flags'; format = 'K'; null = -9223372036854775808\n",
      "    name = 'radius_val'; format = 'E'; unit = 'solRad'\n",
      "    name = 'radius_percentile_lower'; format = 'E'; unit = 'solRad'\n",
      "    name = 'radius_percentile_upper'; format = 'E'; unit = 'solRad'\n",
      "    name = 'lum_val'; format = 'E'; unit = 'solLum'\n",
      "    name = 'lum_percentile_lower'; format = 'E'; unit = 'solLum'\n",
      "    name = 'lum_percentile_upper'; format = 'E'; unit = 'solLum'\n",
      "    name = 'datalink_url'; format = '77A'\n",
      "    name = 'epoch_photometry_url'; format = '99A'\n",
      ")\n"
     ]
    }
   ],
   "source": [
    "print(hdu_list[1].columns)"
   ]
  },
  {
   "cell_type": "code",
   "execution_count": 141,
   "metadata": {},
   "outputs": [],
   "source": [
    "gaia20 = evt_data = Table(hdu_list[1].data)"
   ]
  },
  {
   "cell_type": "code",
   "execution_count": 143,
   "metadata": {},
   "outputs": [
    {
     "data": {
      "text/html": [
       "<i>Table length=5400</i>\n",
       "<table id=\"table1980320141384\" class=\"table-striped table-bordered table-condensed\">\n",
       "<thead><tr><th>solution_id</th><th>designation</th><th>source_id</th><th>random_index</th><th>ref_epoch</th><th>ra</th><th>ra_error</th><th>dec</th><th>dec_error</th><th>parallax</th><th>parallax_error</th><th>parallax_over_error</th><th>pmra</th><th>pmra_error</th><th>pmdec</th><th>pmdec_error</th><th>ra_dec_corr</th><th>ra_parallax_corr</th><th>ra_pmra_corr</th><th>ra_pmdec_corr</th><th>dec_parallax_corr</th><th>dec_pmra_corr</th><th>dec_pmdec_corr</th><th>parallax_pmra_corr</th><th>parallax_pmdec_corr</th><th>pmra_pmdec_corr</th><th>astrometric_n_obs_al</th><th>astrometric_n_obs_ac</th><th>astrometric_n_good_obs_al</th><th>astrometric_n_bad_obs_al</th><th>astrometric_gof_al</th><th>astrometric_chi2_al</th><th>astrometric_excess_noise</th><th>astrometric_excess_noise_sig</th><th>astrometric_params_solved</th><th>astrometric_primary_flag</th><th>astrometric_weight_al</th><th>astrometric_pseudo_colour</th><th>astrometric_pseudo_colour_error</th><th>mean_varpi_factor_al</th><th>astrometric_matched_observations</th><th>visibility_periods_used</th><th>astrometric_sigma5d_max</th><th>frame_rotator_object_type</th><th>matched_observations</th><th>duplicated_source</th><th>phot_g_n_obs</th><th>phot_g_mean_flux</th><th>phot_g_mean_flux_error</th><th>phot_g_mean_flux_over_error</th><th>phot_g_mean_mag</th><th>phot_bp_n_obs</th><th>phot_bp_mean_flux</th><th>phot_bp_mean_flux_error</th><th>phot_bp_mean_flux_over_error</th><th>phot_bp_mean_mag</th><th>phot_rp_n_obs</th><th>phot_rp_mean_flux</th><th>phot_rp_mean_flux_error</th><th>phot_rp_mean_flux_over_error</th><th>phot_rp_mean_mag</th><th>phot_bp_rp_excess_factor</th><th>phot_proc_mode</th><th>bp_rp</th><th>bp_g</th><th>g_rp</th><th>radial_velocity</th><th>radial_velocity_error</th><th>rv_nb_transits</th><th>rv_template_teff</th><th>rv_template_logg</th><th>rv_template_fe_h</th><th>phot_variable_flag</th><th>l</th><th>b</th><th>ecl_lon</th><th>ecl_lat</th><th>priam_flags</th><th>teff_val</th><th>teff_percentile_lower</th><th>teff_percentile_upper</th><th>a_g_val</th><th>a_g_percentile_lower</th><th>a_g_percentile_upper</th><th>e_bp_min_rp_val</th><th>e_bp_min_rp_percentile_lower</th><th>e_bp_min_rp_percentile_upper</th><th>flame_flags</th><th>radius_val</th><th>radius_percentile_lower</th><th>radius_percentile_upper</th><th>lum_val</th><th>lum_percentile_lower</th><th>lum_percentile_upper</th><th>datalink_url</th><th>epoch_photometry_url</th></tr></thead>\n",
       "<thead><tr><th>int64</th><th>str28</th><th>int64</th><th>int64</th><th>float64</th><th>float64</th><th>float64</th><th>float64</th><th>float64</th><th>float64</th><th>float64</th><th>float32</th><th>float64</th><th>float64</th><th>float64</th><th>float64</th><th>float32</th><th>float32</th><th>float32</th><th>float32</th><th>float32</th><th>float32</th><th>float32</th><th>float32</th><th>float32</th><th>float32</th><th>int32</th><th>int32</th><th>int32</th><th>int32</th><th>float32</th><th>float32</th><th>float64</th><th>float64</th><th>int16</th><th>bool</th><th>float32</th><th>float64</th><th>float64</th><th>float32</th><th>int16</th><th>int16</th><th>float32</th><th>int32</th><th>int16</th><th>bool</th><th>int32</th><th>float64</th><th>float64</th><th>float32</th><th>float32</th><th>int32</th><th>float64</th><th>float64</th><th>float32</th><th>float32</th><th>int32</th><th>float64</th><th>float64</th><th>float32</th><th>float32</th><th>float32</th><th>int16</th><th>float32</th><th>float32</th><th>float32</th><th>float64</th><th>float64</th><th>int32</th><th>float32</th><th>float32</th><th>float32</th><th>str13</th><th>float64</th><th>float64</th><th>float64</th><th>float64</th><th>int64</th><th>float32</th><th>float32</th><th>float32</th><th>float32</th><th>float32</th><th>float32</th><th>float32</th><th>float32</th><th>float32</th><th>int64</th><th>float32</th><th>float32</th><th>float32</th><th>float32</th><th>float32</th><th>float32</th><th>str77</th><th>str99</th></tr></thead>\n",
       "<tr><td>1635721458409799680</td><td>Gaia DR2 1213916950812872192</td><td>1213916950812872192</td><td>695746037</td><td>2015.5</td><td>231.5573541319043</td><td>1.4192238665049086</td><td>20.726353416859865</td><td>0.77660947163052</td><td>50.00019778524733</td><td>1.484577840190497</td><td>33.67974</td><td>-220.7752994434754</td><td>2.335741446202821</td><td>-359.1642444095242</td><td>2.0387728895245822</td><td>0.33621332</td><td>-0.62439746</td><td>0.1628184</td><td>-0.09110792</td><td>-0.07951462</td><td>0.11345087</td><td>0.016286472</td><td>-0.13717677</td><td>0.28528294</td><td>0.26259515</td><td>125</td><td>0</td><td>124</td><td>1</td><td>1.4488667</td><td>142.02927</td><td>2.327548779666554</td><td>1.1424918921805174</td><td>31</td><td>False</td><td>0.02336246</td><td>1.1948382491385257</td><td>0.26663274498618283</td><td>0.068131275</td><td>15</td><td>9</td><td>2.1930022</td><td>0</td><td>15</td><td>False</td><td>126</td><td>98.729507585033</td><td>1.1019357283100653</td><td>89.59643</td><td>20.702248</td><td>8</td><td>18.377979253384396</td><td>4.640258369340068</td><td>3.9605508</td><td>22.190643</td><td>14</td><td>224.33625333543768</td><td>16.225021147361073</td><td>13.826562</td><td>18.884672</td><td>2.4583757</td><td>0</td><td>3.3059711</td><td>1.4883957</td><td>1.8175755</td><td>nan</td><td>nan</td><td>0</td><td>nan</td><td>nan</td><td>nan</td><td>NOT_AVAILABLE</td><td>31.18138735822661</td><td>54.19533291241761</td><td>222.41838001860245</td><td>38.03114251219066</td><td>-9223372036854775808</td><td>nan</td><td>nan</td><td>nan</td><td>nan</td><td>nan</td><td>nan</td><td>nan</td><td>nan</td><td>nan</td><td>-9223372036854775808</td><td>nan</td><td>nan</td><td>nan</td><td>nan</td><td>nan</td><td>nan</td><td>http://geadata.esac.esa.int/data-server/datalink/links?ID=1213916950812872192</td><td></td></tr>\n",
       "<tr><td>1635721458409799680</td><td>Gaia DR2 6277615871616087040</td><td>6277615871616087040</td><td>452171331</td><td>2015.5</td><td>214.3712885378121</td><td>0.5717333770723354</td><td>-21.094237731275097</td><td>0.7004308874464927</td><td>50.00630547082087</td><td>0.8650395631539287</td><td>57.808113</td><td>-50.014024419297684</td><td>1.181497899897914</td><td>-14.364190382109976</td><td>1.0934595609373836</td><td>-0.39588222</td><td>0.3337588</td><td>-0.36796376</td><td>-0.1436238</td><td>-0.73711985</td><td>-0.0021908022</td><td>0.2560439</td><td>-0.21826619</td><td>-0.0930515</td><td>-0.43946254</td><td>79</td><td>0</td><td>70</td><td>9</td><td>6.575735</td><td>171.22159</td><td>1.9572433237359241</td><td>8.92382252699037</td><td>31</td><td>False</td><td>0.1456401</td><td>1.411973785677892</td><td>0.2023455529955654</td><td>0.00976242</td><td>8</td><td>6</td><td>1.2086904</td><td>0</td><td>11</td><td>True</td><td>80</td><td>496.4343268619922</td><td>19.01194828328525</td><td>26.111702</td><td>18.948711</td><td>6</td><td>194.3050232528059</td><td>9.84631372768628</td><td>19.733784</td><td>19.630178</td><td>5</td><td>849.8430708838961</td><td>16.32577426287564</td><td>52.055298</td><td>17.438574</td><td>2.1032956</td><td>1</td><td>2.1916046</td><td>0.68146706</td><td>1.5101376</td><td>nan</td><td>nan</td><td>0</td><td>nan</td><td>nan</td><td>nan</td><td>NOT_AVAILABLE</td><td>328.4682239624897</td><td>37.473854512087186</td><td>219.12632370543872</td><td>-6.931715192186589</td><td>-9223372036854775808</td><td>nan</td><td>nan</td><td>nan</td><td>nan</td><td>nan</td><td>nan</td><td>nan</td><td>nan</td><td>nan</td><td>-9223372036854775808</td><td>nan</td><td>nan</td><td>nan</td><td>nan</td><td>nan</td><td>nan</td><td>http://geadata.esac.esa.int/data-server/datalink/links?ID=6277615871616087040</td><td></td></tr>\n",
       "<tr><td>1635721458409799680</td><td>Gaia DR2 2940211607277084672</td><td>2940211607277084672</td><td>1306164090</td><td>2015.5</td><td>97.50747944532775</td><td>0.2564936309489466</td><td>-18.672921414291118</td><td>0.34646713712320326</td><td>50.00863100383097</td><td>0.4471824792506897</td><td>111.83048</td><td>306.3233803359949</td><td>0.6959964805333702</td><td>-496.2272533491454</td><td>0.8818904294288851</td><td>-0.021957256</td><td>0.27113697</td><td>0.00884099</td><td>0.22183076</td><td>-0.07785582</td><td>0.17862175</td><td>-0.13499358</td><td>0.31735298</td><td>0.15392132</td><td>-0.36552092</td><td>207</td><td>0</td><td>206</td><td>1</td><td>49.12</td><td>3665.4546</td><td>2.7206766279008505</td><td>147.0167423431185</td><td>31</td><td>False</td><td>0.12556589</td><td>1.3841061361718527</td><td>0.06673909657506862</td><td>-0.19734058</td><td>24</td><td>11</td><td>0.8355333</td><td>0</td><td>24</td><td>False</td><td>204</td><td>2355.7844190886153</td><td>3.252366982534695</td><td>724.3292</td><td>17.258026</td><td>22</td><td>86.22804886665979</td><td>8.122896714571063</td><td>10.615431</td><td>20.512266</td><td>23</td><td>4425.258329303838</td><td>26.115892642834968</td><td>169.44695</td><td>15.647074</td><td>1.9150676</td><td>1</td><td>4.8651924</td><td>3.25424</td><td>1.6109524</td><td>nan</td><td>nan</td><td>0</td><td>nan</td><td>nan</td><td>nan</td><td>NOT_AVAILABLE</td><td>227.4725793951565</td><td>-12.981326932598993</td><td>99.56714881693657</td><td>-41.86319360424336</td><td>-9223372036854775808</td><td>nan</td><td>nan</td><td>nan</td><td>nan</td><td>nan</td><td>nan</td><td>nan</td><td>nan</td><td>nan</td><td>-9223372036854775808</td><td>nan</td><td>nan</td><td>nan</td><td>nan</td><td>nan</td><td>nan</td><td>http://geadata.esac.esa.int/data-server/datalink/links?ID=2940211607277084672</td><td></td></tr>\n",
       "<tr><td>1635721458409799680</td><td>Gaia DR2 6734860911776211456</td><td>6734860911776211456</td><td>49730833</td><td>2015.5</td><td>277.87158810930504</td><td>1.1276207704226402</td><td>-34.728962478207634</td><td>1.3025098104851407</td><td>50.01129317994813</td><td>1.8456698301540382</td><td>27.096554</td><td>-3.5246599359401953</td><td>1.6016302482709284</td><td>-3.28643111606925</td><td>1.4105889055013228</td><td>-0.13859057</td><td>0.5359663</td><td>-0.3447429</td><td>-0.56675094</td><td>-0.75665164</td><td>-0.22024292</td><td>-0.19249204</td><td>-0.20920748</td><td>-0.10045924</td><td>0.34554544</td><td>94</td><td>0</td><td>92</td><td>2</td><td>8.274324</td><td>246.81276</td><td>3.384297856396468</td><td>9.2927165554604</td><td>31</td><td>False</td><td>0.04927196</td><td>1.4874240874382472</td><td>0.2170036663987521</td><td>0.13134623</td><td>11</td><td>8</td><td>1.8447695</td><td>0</td><td>11</td><td>False</td><td>86</td><td>231.57793682951555</td><td>1.9074916476665997</td><td>121.40443</td><td>19.776623</td><td>6</td><td>357.02191925072856</td><td>20.669965353134987</td><td>17.272497</td><td>18.96965</td><td>5</td><td>494.8948868146193</td><td>85.61093686230795</td><td>5.7807436</td><td>18.025637</td><td>3.6787477</td><td>0</td><td>0.9440136</td><td>-0.8069725</td><td>1.7509861</td><td>nan</td><td>nan</td><td>0</td><td>nan</td><td>nan</td><td>nan</td><td>NOT_AVAILABLE</td><td>359.5444730463998</td><td>-11.313447491353571</td><td>276.5949579281356</td><td>-11.469713355967793</td><td>-9223372036854775808</td><td>nan</td><td>nan</td><td>nan</td><td>nan</td><td>nan</td><td>nan</td><td>nan</td><td>nan</td><td>nan</td><td>-9223372036854775808</td><td>nan</td><td>nan</td><td>nan</td><td>nan</td><td>nan</td><td>nan</td><td>http://geadata.esac.esa.int/data-server/datalink/links?ID=6734860911776211456</td><td></td></tr>\n",
       "<tr><td>1635721458409799680</td><td>Gaia DR2 3566338949070993536</td><td>3566338949070993536</td><td>213961137</td><td>2015.5</td><td>169.27519447022306</td><td>0.05938012346628611</td><td>-11.374338540852346</td><td>0.040977349276677844</td><td>50.01588327187635</td><td>0.06653665367151541</td><td>751.7042</td><td>-390.12589102607546</td><td>0.11168554535856534</td><td>-149.0723998540455</td><td>0.07810022559807096</td><td>-0.08042896</td><td>-0.43385532</td><td>-0.10549418</td><td>0.2404599</td><td>-0.036648016</td><td>0.17718226</td><td>-0.0034207273</td><td>-0.0060763727</td><td>-0.26406878</td><td>0.025070349</td><td>147</td><td>147</td><td>146</td><td>1</td><td>19.50526</td><td>785.5565</td><td>0.16416740702635382</td><td>10.617247163668198</td><td>31</td><td>True</td><td>30.005232</td><td>1.2677946673955711</td><td>0.01271599046342506</td><td>0.03846956</td><td>17</td><td>10</td><td>0.063336655</td><td>0</td><td>23</td><td>False</td><td>199</td><td>194358.48785086875</td><td>98.6182898943846</td><td>1970.8158</td><td>12.466857</td><td>23</td><td>34122.63100946221</td><td>70.32643111976289</td><td>485.20352</td><td>14.018782</td><td>23</td><td>251321.6866648767</td><td>255.600928361214</td><td>983.2581</td><td>11.261345</td><td>1.4686486</td><td>0</td><td>2.7574368</td><td>1.5519247</td><td>1.205512</td><td>nan</td><td>nan</td><td>0</td><td>nan</td><td>nan</td><td>nan</td><td>NOT_AVAILABLE</td><td>269.0998124206239</td><td>45.21064087507235</td><td>174.72494610878806</td><td>-14.685516199254042</td><td>100001</td><td>4076.08</td><td>3652.8867</td><td>4136.32</td><td>0.0067</td><td>0.0</td><td>0.1413</td><td>0.006</td><td>0.0</td><td>0.0905</td><td>-9223372036854775808</td><td>nan</td><td>nan</td><td>nan</td><td>nan</td><td>nan</td><td>nan</td><td>http://geadata.esac.esa.int/data-server/datalink/links?ID=3566338949070993536</td><td></td></tr>\n",
       "<tr><td>1635721458409799680</td><td>Gaia DR2 6526909899623917056</td><td>6526909899623917056</td><td>400088098</td><td>2015.5</td><td>349.44791482728726</td><td>0.7334217172276003</td><td>-48.647011184500855</td><td>0.5938225144724715</td><td>50.02123738896106</td><td>1.265573433271181</td><td>39.524563</td><td>249.00159335270328</td><td>1.276094705975271</td><td>65.78783789192431</td><td>1.2440084666173596</td><td>-0.10784656</td><td>0.1384459</td><td>0.4623727</td><td>0.113419734</td><td>-0.2637942</td><td>0.03960674</td><td>0.2908858</td><td>0.19886227</td><td>-0.44104207</td><td>0.13939674</td><td>360</td><td>0</td><td>357</td><td>3</td><td>5.2222176</td><td>508.68472</td><td>3.9294566050702295</td><td>5.576486938963247</td><td>31</td><td>False</td><td>0.015991185</td><td>1.2797271115242617</td><td>0.17441809222937601</td><td>-0.0965106</td><td>42</td><td>13</td><td>1.2433381</td><td>0</td><td>46</td><td>False</td><td>376</td><td>107.18068587980791</td><td>0.7915237032403927</td><td>135.41058</td><td>20.613075</td><td>16</td><td>48.60704433049407</td><td>14.75517213880844</td><td>3.2942376</td><td>21.13464</td><td>36</td><td>223.2525215719571</td><td>6.382965323843979</td><td>34.976303</td><td>18.889929</td><td>2.5364604</td><td>0</td><td>2.244711</td><td>0.5215645</td><td>1.7231464</td><td>nan</td><td>nan</td><td>0</td><td>nan</td><td>nan</td><td>nan</td><td>NOT_AVAILABLE</td><td>336.76806348671676</td><td>-61.87109280309672</td><td>327.76371161285607</td><td>-39.83530716117934</td><td>-9223372036854775808</td><td>nan</td><td>nan</td><td>nan</td><td>nan</td><td>nan</td><td>nan</td><td>nan</td><td>nan</td><td>nan</td><td>-9223372036854775808</td><td>nan</td><td>nan</td><td>nan</td><td>nan</td><td>nan</td><td>nan</td><td>http://geadata.esac.esa.int/data-server/datalink/links?ID=6526909899623917056</td><td></td></tr>\n",
       "<tr><td>1635721458409799680</td><td>Gaia DR2 4116109533358012288</td><td>4116109533358012288</td><td>1519545102</td><td>2015.5</td><td>257.74730884095703</td><td>0.8879963346602882</td><td>-20.547442072000543</td><td>1.3602014271562533</td><td>50.02522730342493</td><td>1.8563708545234607</td><td>26.947863</td><td>-10.164874179183425</td><td>1.7102317086874654</td><td>-10.285565560847699</td><td>1.275188661043917</td><td>0.35920513</td><td>-0.15663163</td><td>0.040754475</td><td>-0.26459214</td><td>-0.89146507</td><td>0.1016303</td><td>-0.13611433</td><td>-0.22820963</td><td>0.12563983</td><td>0.5524212</td><td>95</td><td>0</td><td>91</td><td>4</td><td>6.0070367</td><td>190.15273</td><td>2.833750622112392</td><td>7.019735000518127</td><td>31</td><td>False</td><td>0.06979364</td><td>1.863481748493816</td><td>0.1722120391055145</td><td>0.2635639</td><td>11</td><td>7</td><td>1.8999249</td><td>0</td><td>12</td><td>True</td><td>96</td><td>410.20663202159835</td><td>8.537307261230941</td><td>48.048714</td><td>19.155859</td><td>11</td><td>237.09136286516517</td><td>15.126784584366122</td><td>15.673613</td><td>19.414099</td><td>11</td><td>411.2881807617943</td><td>17.387063342865115</td><td>23.654839</td><td>18.226555</td><td>1.580617</td><td>0</td><td>1.1875439</td><td>0.25823975</td><td>0.9293041</td><td>nan</td><td>nan</td><td>0</td><td>nan</td><td>nan</td><td>nan</td><td>NOT_AVAILABLE</td><td>2.7268291537912095</td><td>11.164840626742228</td><td>258.52751726056965</td><td>2.4051944271763914</td><td>-9223372036854775808</td><td>nan</td><td>nan</td><td>nan</td><td>nan</td><td>nan</td><td>nan</td><td>nan</td><td>nan</td><td>nan</td><td>-9223372036854775808</td><td>nan</td><td>nan</td><td>nan</td><td>nan</td><td>nan</td><td>nan</td><td>http://geadata.esac.esa.int/data-server/datalink/links?ID=4116109533358012288</td><td></td></tr>\n",
       "<tr><td>1635721458409799680</td><td>Gaia DR2 1858469118208383104</td><td>1858469118208383104</td><td>49838590</td><td>2015.5</td><td>314.3486702187655</td><td>0.025693857577208646</td><td>29.869498863956352</td><td>0.03669819205233817</td><td>50.03275608758494</td><td>0.04798053812735611</td><td>1042.7719</td><td>14.87936212967237</td><td>0.0643411979396304</td><td>-37.84877681776763</td><td>0.06980518897399816</td><td>-0.50694823</td><td>0.10580878</td><td>-0.07522934</td><td>0.23046902</td><td>0.0132634975</td><td>0.2617343</td><td>-0.47666597</td><td>-0.090533905</td><td>-0.0017784511</td><td>-0.55272996</td><td>596</td><td>596</td><td>586</td><td>10</td><td>45.672806</td><td>3940.244</td><td>0.20593934964887461</td><td>27.52404965042378</td><td>31</td><td>True</td><td>18.89331</td><td>1.2546099786512097</td><td>0.009527217810289151</td><td>0.046478078</td><td>67</td><td>16</td><td>0.052599043</td><td>0</td><td>68</td><td>True</td><td>601</td><td>145816.8941445583</td><td>47.48955133630445</td><td>3070.505</td><td>12.778846</td><td>66</td><td>23033.26366833319</td><td>42.794347295064696</td><td>538.23145</td><td>14.445499</td><td>64</td><td>195355.7598583291</td><td>160.34159722874685</td><td>1218.3723</td><td>11.534855</td><td>1.4976935</td><td>1</td><td>2.9106445</td><td>1.6666536</td><td>1.2439909</td><td>nan</td><td>nan</td><td>0</td><td>nan</td><td>nan</td><td>nan</td><td>NOT_AVAILABLE</td><td>74.23813250911293</td><td>-10.138573382029115</td><td>328.5430195248128</td><td>44.71609089206067</td><td>100002</td><td>3802.9302</td><td>3515.0632</td><td>3974.74</td><td>0.339</td><td>0.1789</td><td>0.454</td><td>0.1985</td><td>0.1182</td><td>0.3065</td><td>-9223372036854775808</td><td>nan</td><td>nan</td><td>nan</td><td>nan</td><td>nan</td><td>nan</td><td>http://geadata.esac.esa.int/data-server/datalink/links?ID=1858469118208383104</td><td></td></tr>\n",
       "<tr><td>1635721458409799680</td><td>Gaia DR2 4119945836887057152</td><td>4119945836887057152</td><td>900481650</td><td>2015.5</td><td>266.4569660924018</td><td>1.2013975357974713</td><td>-18.980880188669968</td><td>1.287369529500409</td><td>50.03280431335774</td><td>1.697291670677412</td><td>29.478024</td><td>-226.18817714668833</td><td>1.7830056654122493</td><td>-143.02033218393257</td><td>1.6573082504782581</td><td>0.8588133</td><td>-0.6047029</td><td>-0.13748588</td><td>-0.7718458</td><td>-0.7669082</td><td>0.07083015</td><td>-0.82064927</td><td>-0.5491115</td><td>0.58050895</td><td>0.23391269</td><td>86</td><td>0</td><td>72</td><td>14</td><td>-0.09496218</td><td>65.249535</td><td>0.6178125547718128</td><td>0.2662233611879466</td><td>31</td><td>False</td><td>0.11003719</td><td>1.3354644424030762</td><td>0.18993497242962415</td><td>0.33494478</td><td>10</td><td>6</td><td>2.318318</td><td>0</td><td>13</td><td>False</td><td>87</td><td>255.2075198362065</td><td>3.0210323684538336</td><td>84.47692</td><td>19.671131</td><td>0</td><td>nan</td><td>nan</td><td>nan</td><td>nan</td><td>0</td><td>nan</td><td>nan</td><td>nan</td><td>nan</td><td>nan</td><td>2</td><td>nan</td><td>nan</td><td>nan</td><td>nan</td><td>nan</td><td>0</td><td>nan</td><td>nan</td><td>nan</td><td>NOT_AVAILABLE</td><td>8.54583433344111</td><td>5.125823406194089</td><td>266.6398600447663</td><td>4.417084537029208</td><td>-9223372036854775808</td><td>nan</td><td>nan</td><td>nan</td><td>nan</td><td>nan</td><td>nan</td><td>nan</td><td>nan</td><td>nan</td><td>-9223372036854775808</td><td>nan</td><td>nan</td><td>nan</td><td>nan</td><td>nan</td><td>nan</td><td>http://geadata.esac.esa.int/data-server/datalink/links?ID=4119945836887057152</td><td></td></tr>\n",
       "<tr><td>1635721458409799680</td><td>Gaia DR2 4359809585500446720</td><td>4359809585500446720</td><td>1361300432</td><td>2015.5</td><td>258.416714658565</td><td>0.25828548446745325</td><td>-8.422540605900055</td><td>0.22013477933221226</td><td>50.03446515292732</td><td>0.31280948393776903</td><td>159.95187</td><td>-438.2081530793825</td><td>0.49862623385020766</td><td>-408.17890629106205</td><td>0.37964089466088635</td><td>0.22091764</td><td>0.19952928</td><td>-0.2406955</td><td>-0.20695445</td><td>-0.07239779</td><td>-0.18551928</td><td>-0.32591635</td><td>-0.43068776</td><td>0.058178436</td><td>0.26894063</td><td>175</td><td>175</td><td>172</td><td>3</td><td>115.12395</td><td>23457.213</td><td>1.1742591494846117</td><td>479.1982458991774</td><td>31</td><td>True</td><td>0.62683016</td><td>1.0857079081756955</td><td>0.08534975009146369</td><td>0.16142502</td><td>20</td><td>11</td><td>0.2666777</td><td>0</td><td>20</td><td>False</td><td>165</td><td>852260.8136687289</td><td>606.786172957771</td><td>1404.5488</td><td>10.861935</td><td>18</td><td>168454.7044483402</td><td>269.8177986627793</td><td>624.32764</td><td>12.28518</td><td>17</td><td>1043801.2380767656</td><td>1768.3848071431953</td><td>590.25684</td><td>9.715376</td><td>1.4224002</td><td>1</td><td>2.5698042</td><td>1.4232454</td><td>1.1465588</td><td>nan</td><td>nan</td><td>0</td><td>nan</td><td>nan</td><td>nan</td><td>NOT_AVAILABLE</td><td>13.539483121594683</td><td>17.3076367653789</td><td>258.1587926993337</td><td>14.541872138461203</td><td>100002</td><td>3636.0066</td><td>3330.0</td><td>3901.1965</td><td>nan</td><td>nan</td><td>nan</td><td>nan</td><td>nan</td><td>nan</td><td>-9223372036854775808</td><td>nan</td><td>nan</td><td>nan</td><td>nan</td><td>nan</td><td>nan</td><td>http://geadata.esac.esa.int/data-server/datalink/links?ID=4359809585500446720</td><td></td></tr>\n",
       "<tr><td>...</td><td>...</td><td>...</td><td>...</td><td>...</td><td>...</td><td>...</td><td>...</td><td>...</td><td>...</td><td>...</td><td>...</td><td>...</td><td>...</td><td>...</td><td>...</td><td>...</td><td>...</td><td>...</td><td>...</td><td>...</td><td>...</td><td>...</td><td>...</td><td>...</td><td>...</td><td>...</td><td>...</td><td>...</td><td>...</td><td>...</td><td>...</td><td>...</td><td>...</td><td>...</td><td>...</td><td>...</td><td>...</td><td>...</td><td>...</td><td>...</td><td>...</td><td>...</td><td>...</td><td>...</td><td>...</td><td>...</td><td>...</td><td>...</td><td>...</td><td>...</td><td>...</td><td>...</td><td>...</td><td>...</td><td>...</td><td>...</td><td>...</td><td>...</td><td>...</td><td>...</td><td>...</td><td>...</td><td>...</td><td>...</td><td>...</td><td>...</td><td>...</td><td>...</td><td>...</td><td>...</td><td>...</td><td>...</td><td>...</td><td>...</td><td>...</td><td>...</td><td>...</td><td>...</td><td>...</td><td>...</td><td>...</td><td>...</td><td>...</td><td>...</td><td>...</td><td>...</td><td>...</td><td>...</td><td>...</td><td>...</td><td>...</td><td>...</td><td>...</td><td>...</td><td>...</td></tr>\n",
       "<tr><td>1635721458409799680</td><td>Gaia DR2 4064581956082565760</td><td>4064581956082565760</td><td>514278519</td><td>2015.5</td><td>272.70539288992836</td><td>1.0032861869071104</td><td>-26.58108328518761</td><td>1.1242621500920222</td><td>1328.8377893227416</td><td>1.622983055771471</td><td>818.7626</td><td>-862.1931697399773</td><td>1.8040592495723011</td><td>752.2974722718722</td><td>1.5180365635443411</td><td>0.5989276</td><td>-0.40970838</td><td>-0.04240706</td><td>-0.380684</td><td>-0.7409713</td><td>0.3604429</td><td>-0.68080837</td><td>-0.6149557</td><td>0.62227994</td><td>-0.06747684</td><td>59</td><td>0</td><td>59</td><td>0</td><td>1.6487385</td><td>72.1982</td><td>1.5866042640990239</td><td>1.5087328502844168</td><td>31</td><td>False</td><td>0.08215383</td><td>1.5614615654405342</td><td>0.2464393930017549</td><td>0.33234507</td><td>7</td><td>6</td><td>2.0785284</td><td>0</td><td>9</td><td>False</td><td>60</td><td>194.800872852926</td><td>8.232818362464597</td><td>23.661505</td><td>19.964388</td><td>0</td><td>nan</td><td>nan</td><td>nan</td><td>nan</td><td>0</td><td>nan</td><td>nan</td><td>nan</td><td>nan</td><td>nan</td><td>2</td><td>nan</td><td>nan</td><td>nan</td><td>nan</td><td>nan</td><td>0</td><td>nan</td><td>nan</td><td>nan</td><td>NOT_AVAILABLE</td><td>4.827101649903161</td><td>-3.6533080645504947</td><td>272.42296892397843</td><td>-3.1645541691788037</td><td>-9223372036854775808</td><td>nan</td><td>nan</td><td>nan</td><td>nan</td><td>nan</td><td>nan</td><td>nan</td><td>nan</td><td>nan</td><td>-9223372036854775808</td><td>nan</td><td>nan</td><td>nan</td><td>nan</td><td>nan</td><td>nan</td><td>http://geadata.esac.esa.int/data-server/datalink/links?ID=4064581956082565760</td><td></td></tr>\n",
       "<tr><td>1635721458409799680</td><td>Gaia DR2 4062469897267372928</td><td>4062469897267372928</td><td>1041434539</td><td>2015.5</td><td>270.6406216584042</td><td>0.7767993384458663</td><td>-28.620187651072303</td><td>0.7992539381278554</td><td>1369.275212694379</td><td>1.0806328642606542</td><td>1267.1049</td><td>150.62427004675513</td><td>1.381122338930121</td><td>277.2616207132501</td><td>1.144495380132721</td><td>-0.39103407</td><td>0.62603027</td><td>0.11536424</td><td>-0.14271025</td><td>-0.72292</td><td>-0.42943373</td><td>-0.28503132</td><td>0.23005098</td><td>0.20771177</td><td>0.2193355</td><td>88</td><td>0</td><td>77</td><td>11</td><td>3.679795</td><td>124.83533</td><td>2.133161928548864</td><td>4.774936806969651</td><td>31</td><td>False</td><td>0.0925743</td><td>1.3225296228230952</td><td>0.18939757877827604</td><td>-0.06565485</td><td>9</td><td>6</td><td>1.402633</td><td>0</td><td>10</td><td>True</td><td>87</td><td>387.6867620027045</td><td>7.460041536971837</td><td>51.968445</td><td>19.217163</td><td>0</td><td>nan</td><td>nan</td><td>nan</td><td>nan</td><td>0</td><td>nan</td><td>nan</td><td>nan</td><td>nan</td><td>nan</td><td>2</td><td>nan</td><td>nan</td><td>nan</td><td>nan</td><td>nan</td><td>0</td><td>nan</td><td>nan</td><td>nan</td><td>NOT_AVAILABLE</td><td>2.1519859495669973</td><td>-3.0420682111046875</td><td>270.5646657587739</td><td>-5.182162522670546</td><td>-9223372036854775808</td><td>nan</td><td>nan</td><td>nan</td><td>nan</td><td>nan</td><td>nan</td><td>nan</td><td>nan</td><td>nan</td><td>-9223372036854775808</td><td>nan</td><td>nan</td><td>nan</td><td>nan</td><td>nan</td><td>nan</td><td>http://geadata.esac.esa.int/data-server/datalink/links?ID=4062469897267372928</td><td></td></tr>\n",
       "<tr><td>1635721458409799680</td><td>Gaia DR2 4046453826887613696</td><td>4046453826887613696</td><td>521366976</td><td>2015.5</td><td>275.5028687648527</td><td>1.591328182936602</td><td>-30.564938591528005</td><td>1.0007131685565587</td><td>1377.7433471537968</td><td>1.4995084494067437</td><td>918.79663</td><td>-24.195916483770773</td><td>1.9618509775274835</td><td>-20.67307441176187</td><td>1.7860428059976254</td><td>0.51657796</td><td>-0.7577494</td><td>-0.0782742</td><td>-0.17575975</td><td>-0.2840463</td><td>-0.068935074</td><td>-0.3074484</td><td>-0.14411516</td><td>0.13066815</td><td>0.48855618</td><td>70</td><td>0</td><td>70</td><td>0</td><td>10.93019</td><td>284.44913</td><td>3.965898806868621</td><td>18.885128390003455</td><td>31</td><td>False</td><td>0.04192351</td><td>1.5582819269347077</td><td>0.24634801957829555</td><td>0.34151068</td><td>8</td><td>6</td><td>2.0897634</td><td>0</td><td>8</td><td>False</td><td>71</td><td>266.97900965103304</td><td>15.104438399352585</td><td>17.675533</td><td>19.622173</td><td>0</td><td>nan</td><td>nan</td><td>nan</td><td>nan</td><td>0</td><td>nan</td><td>nan</td><td>nan</td><td>nan</td><td>nan</td><td>0</td><td>nan</td><td>nan</td><td>nan</td><td>nan</td><td>nan</td><td>0</td><td>nan</td><td>nan</td><td>nan</td><td>NOT_AVAILABLE</td><td>2.4408130789586284</td><td>-7.686364927831722</td><td>274.7742975744191</td><td>-7.216811530676016</td><td>-9223372036854775808</td><td>nan</td><td>nan</td><td>nan</td><td>nan</td><td>nan</td><td>nan</td><td>nan</td><td>nan</td><td>nan</td><td>-9223372036854775808</td><td>nan</td><td>nan</td><td>nan</td><td>nan</td><td>nan</td><td>nan</td><td>http://geadata.esac.esa.int/data-server/datalink/links?ID=4046453826887613696</td><td></td></tr>\n",
       "<tr><td>1635721458409799680</td><td>Gaia DR2 4065501285215613440</td><td>4065501285215613440</td><td>1331478248</td><td>2015.5</td><td>274.40278620722194</td><td>1.1427315276516583</td><td>-24.163574848141437</td><td>0.9178640372952094</td><td>1392.6879001873735</td><td>1.070634537681354</td><td>1300.806</td><td>-545.468305323419</td><td>1.6654450225538653</td><td>1145.8739058759825</td><td>1.5512679421378164</td><td>0.73204297</td><td>-0.61158156</td><td>-0.08818366</td><td>-0.46353233</td><td>-0.39755368</td><td>-0.21261723</td><td>-0.47311303</td><td>-0.26584613</td><td>0.32693383</td><td>0.5706935</td><td>90</td><td>0</td><td>81</td><td>9</td><td>2.3690288</td><td>108.262436</td><td>2.038058477710888</td><td>2.3475850197838883</td><td>31</td><td>False</td><td>0.06204453</td><td>1.8414068988251318</td><td>0.21930628092447454</td><td>0.39236808</td><td>9</td><td>6</td><td>1.8971509</td><td>0</td><td>10</td><td>False</td><td>89</td><td>190.09985482916304</td><td>3.252903902441562</td><td>58.44005</td><td>19.990911</td><td>0</td><td>nan</td><td>nan</td><td>nan</td><td>nan</td><td>0</td><td>nan</td><td>nan</td><td>nan</td><td>nan</td><td>nan</td><td>1</td><td>nan</td><td>nan</td><td>nan</td><td>nan</td><td>nan</td><td>0</td><td>nan</td><td>nan</td><td>nan</td><td>NOT_AVAILABLE</td><td>7.688947096197378</td><td>-3.855387903250599</td><td>274.0167450276272</td><td>-0.7856624829435678</td><td>-9223372036854775808</td><td>nan</td><td>nan</td><td>nan</td><td>nan</td><td>nan</td><td>nan</td><td>nan</td><td>nan</td><td>nan</td><td>-9223372036854775808</td><td>nan</td><td>nan</td><td>nan</td><td>nan</td><td>nan</td><td>nan</td><td>http://geadata.esac.esa.int/data-server/datalink/links?ID=4065501285215613440</td><td></td></tr>\n",
       "<tr><td>1635721458409799680</td><td>Gaia DR2 4043211293994009216</td><td>4043211293994009216</td><td>971614906</td><td>2015.5</td><td>268.1770640256022</td><td>1.6337609944872846</td><td>-33.250234674587844</td><td>1.5947590946791281</td><td>1446.766176823821</td><td>1.9318079270634416</td><td>748.9182</td><td>-1021.7082259610521</td><td>3.169818287049182</td><td>818.617314990372</td><td>2.68995908186569</td><td>0.14962967</td><td>0.015665082</td><td>-0.43549633</td><td>-0.2054524</td><td>-0.49877694</td><td>0.03629801</td><td>-0.64003104</td><td>-0.45098707</td><td>0.3207686</td><td>0.14404039</td><td>61</td><td>0</td><td>52</td><td>9</td><td>4.231509</td><td>100.01388</td><td>3.6375964332425736</td><td>2.973618101694477</td><td>31</td><td>False</td><td>0.024833815</td><td>1.7878146856309982</td><td>0.42489971564275975</td><td>-0.032828316</td><td>6</td><td>6</td><td>3.0080466</td><td>0</td><td>8</td><td>False</td><td>66</td><td>159.1046353301929</td><td>2.920746101028944</td><td>54.47397</td><td>20.184158</td><td>0</td><td>nan</td><td>nan</td><td>nan</td><td>nan</td><td>0</td><td>nan</td><td>nan</td><td>nan</td><td>nan</td><td>nan</td><td>2</td><td>nan</td><td>nan</td><td>nan</td><td>nan</td><td>nan</td><td>0</td><td>nan</td><td>nan</td><td>nan</td><td>NOT_AVAILABLE</td><td>357.07704090245727</td><td>-3.518319659305026</td><td>268.4529222509288</td><td>-9.820742977227543</td><td>-9223372036854775808</td><td>nan</td><td>nan</td><td>nan</td><td>nan</td><td>nan</td><td>nan</td><td>nan</td><td>nan</td><td>nan</td><td>-9223372036854775808</td><td>nan</td><td>nan</td><td>nan</td><td>nan</td><td>nan</td><td>nan</td><td>http://geadata.esac.esa.int/data-server/datalink/links?ID=4043211293994009216</td><td></td></tr>\n",
       "<tr><td>1635721458409799680</td><td>Gaia DR2 4059168373166457472</td><td>4059168373166457472</td><td>868698865</td><td>2015.5</td><td>259.2971765688338</td><td>1.6407477189213162</td><td>-30.486546962688415</td><td>2.0694449242353987</td><td>1513.989051313032</td><td>2.868580297966132</td><td>527.7834</td><td>-73.0260163332319</td><td>3.5088941713794943</td><td>1141.4819867884244</td><td>2.849601147661596</td><td>0.17939518</td><td>-0.11583175</td><td>-0.048679892</td><td>-0.050653726</td><td>-0.80537075</td><td>0.1339789</td><td>-0.7185327</td><td>-0.0870045</td><td>0.69743246</td><td>-0.037904426</td><td>51</td><td>0</td><td>51</td><td>0</td><td>-0.29561168</td><td>42.58605</td><td>0.0</td><td>0.0</td><td>31</td><td>False</td><td>0.023591623</td><td>1.203647472990524</td><td>0.5601195000691894</td><td>0.21691838</td><td>6</td><td>6</td><td>3.5217721</td><td>0</td><td>6</td><td>False</td><td>51</td><td>90.08872450812129</td><td>1.7862854808231714</td><td>50.43355</td><td>20.80169</td><td>0</td><td>nan</td><td>nan</td><td>nan</td><td>nan</td><td>0</td><td>nan</td><td>nan</td><td>nan</td><td>nan</td><td>nan</td><td>0</td><td>nan</td><td>nan</td><td>nan</td><td>nan</td><td>nan</td><td>0</td><td>nan</td><td>nan</td><td>nan</td><td>NOT_AVAILABLE</td><td>355.3184905531913</td><td>4.315386762175679</td><td>260.71296674813715</td><td>-7.391661378147119</td><td>-9223372036854775808</td><td>nan</td><td>nan</td><td>nan</td><td>nan</td><td>nan</td><td>nan</td><td>nan</td><td>nan</td><td>nan</td><td>-9223372036854775808</td><td>nan</td><td>nan</td><td>nan</td><td>nan</td><td>nan</td><td>nan</td><td>http://geadata.esac.esa.int/data-server/datalink/links?ID=4059168373166457472</td><td></td></tr>\n",
       "<tr><td>1635721458409799680</td><td>Gaia DR2 4048978992784308992</td><td>4048978992784308992</td><td>1399546349</td><td>2015.5</td><td>273.11242146179956</td><td>1.0926370638449316</td><td>-31.184669714567487</td><td>1.3628242746600558</td><td>1634.2833535533089</td><td>1.9712314983621555</td><td>829.0672</td><td>-1233.5822708378616</td><td>2.294545323856158</td><td>808.573232590872</td><td>1.9225871321502823</td><td>0.5750374</td><td>-0.46988228</td><td>0.30907962</td><td>-0.13966435</td><td>-0.7891811</td><td>0.52495515</td><td>-0.39793462</td><td>-0.6088748</td><td>0.49013144</td><td>0.13482538</td><td>53</td><td>0</td><td>51</td><td>2</td><td>5.0934014</td><td>112.97239</td><td>2.4396788295708314</td><td>3.8338296155796048</td><td>31</td><td>False</td><td>0.0593868</td><td>nan</td><td>nan</td><td>0.2278265</td><td>6</td><td>6</td><td>2.5336933</td><td>0</td><td>9</td><td>False</td><td>53</td><td>230.10043030857562</td><td>14.874964348877915</td><td>15.468973</td><td>19.783571</td><td>0</td><td>nan</td><td>nan</td><td>nan</td><td>nan</td><td>0</td><td>nan</td><td>nan</td><td>nan</td><td>nan</td><td>nan</td><td>2</td><td>nan</td><td>nan</td><td>nan</td><td>nan</td><td>nan</td><td>0</td><td>nan</td><td>nan</td><td>nan</td><td>NOT_AVAILABLE</td><td>0.9311308281437674</td><td>-6.154249896500283</td><td>272.68706359175934</td><td>-7.77441561217826</td><td>-9223372036854775808</td><td>nan</td><td>nan</td><td>nan</td><td>nan</td><td>nan</td><td>nan</td><td>nan</td><td>nan</td><td>nan</td><td>-9223372036854775808</td><td>nan</td><td>nan</td><td>nan</td><td>nan</td><td>nan</td><td>nan</td><td>http://geadata.esac.esa.int/data-server/datalink/links?ID=4048978992784308992</td><td></td></tr>\n",
       "<tr><td>1635721458409799680</td><td>Gaia DR2 4051942623265668864</td><td>4051942623265668864</td><td>1406107636</td><td>2015.5</td><td>276.22319346395074</td><td>0.6829586324023676</td><td>-27.140478978057512</td><td>0.5007500183060605</td><td>1686.2659581841303</td><td>1.473535368592552</td><td>1144.3674</td><td>1350.9780754472563</td><td>1.9344078768087658</td><td>3460.640310254021</td><td>3.159078523023769</td><td>0.20628396</td><td>0.59453374</td><td>0.4247038</td><td>0.5252009</td><td>0.081123516</td><td>0.10748989</td><td>0.1560219</td><td>0.6475467</td><td>0.89274</td><td>0.8387127</td><td>87</td><td>0</td><td>87</td><td>0</td><td>8.2439</td><td>238.00374</td><td>1.7573924848849927</td><td>3.565599506186299</td><td>31</td><td>False</td><td>0.09193568</td><td>1.5092192343613255</td><td>0.15944004445009893</td><td>0.114194855</td><td>10</td><td>6</td><td>3.289702</td><td>0</td><td>10</td><td>False</td><td>70</td><td>343.0980094399475</td><td>2.2426495486757694</td><td>152.9878</td><td>19.349821</td><td>0</td><td>nan</td><td>nan</td><td>nan</td><td>nan</td><td>0</td><td>nan</td><td>nan</td><td>nan</td><td>nan</td><td>nan</td><td>2</td><td>nan</td><td>nan</td><td>nan</td><td>nan</td><td>nan</td><td>0</td><td>nan</td><td>nan</td><td>nan</td><td>NOT_AVAILABLE</td><td>5.803458673044624</td><td>-6.689011087722239</td><td>275.54807296051143</td><td>-3.8209719702995</td><td>-9223372036854775808</td><td>nan</td><td>nan</td><td>nan</td><td>nan</td><td>nan</td><td>nan</td><td>nan</td><td>nan</td><td>nan</td><td>-9223372036854775808</td><td>nan</td><td>nan</td><td>nan</td><td>nan</td><td>nan</td><td>nan</td><td>http://geadata.esac.esa.int/data-server/datalink/links?ID=4051942623265668864</td><td></td></tr>\n",
       "<tr><td>1635721458409799680</td><td>Gaia DR2 4065202424204492928</td><td>4065202424204492928</td><td>1202272748</td><td>2015.5</td><td>274.9068719056276</td><td>1.2517478977843421</td><td>-25.255882032689016</td><td>1.5714988862767636</td><td>1847.4333489420278</td><td>1.8749374489804027</td><td>985.3306</td><td>-1342.0141324430074</td><td>2.5188466802945</td><td>949.1739537792625</td><td>2.146163620916672</td><td>0.61277527</td><td>-0.33433962</td><td>-0.22303984</td><td>-0.44607</td><td>-0.75185686</td><td>0.17952906</td><td>-0.5788209</td><td>-0.51918733</td><td>0.36973226</td><td>0.33338672</td><td>54</td><td>0</td><td>54</td><td>0</td><td>0.41501716</td><td>52.523006</td><td>0.7109616080558983</td><td>0.13606903645637197</td><td>31</td><td>False</td><td>0.05434838</td><td>2.11101615669219</td><td>0.24649988058037253</td><td>0.20381902</td><td>6</td><td>6</td><td>2.499711</td><td>0</td><td>9</td><td>False</td><td>56</td><td>209.69636004718186</td><td>10.530200151924515</td><td>19.913805</td><td>19.884388</td><td>4</td><td>451.9510958452295</td><td>50.86797779190411</td><td>8.884786</td><td>18.71366</td><td>3</td><td>570.6097116676996</td><td>143.66963888991984</td><td>3.9716792</td><td>17.871073</td><td>4.876388</td><td>0</td><td>0.8425865</td><td>-1.1707287</td><td>2.0133152</td><td>nan</td><td>nan</td><td>0</td><td>nan</td><td>nan</td><td>nan</td><td>NOT_AVAILABLE</td><td>6.936476858022299</td><td>-4.771809472027501</td><td>274.43928017411815</td><td>-1.8921847478497202</td><td>-9223372036854775808</td><td>nan</td><td>nan</td><td>nan</td><td>nan</td><td>nan</td><td>nan</td><td>nan</td><td>nan</td><td>nan</td><td>-9223372036854775808</td><td>nan</td><td>nan</td><td>nan</td><td>nan</td><td>nan</td><td>nan</td><td>http://geadata.esac.esa.int/data-server/datalink/links?ID=4065202424204492928</td><td></td></tr>\n",
       "<tr><td>1635721458409799680</td><td>Gaia DR2 4062964299525805952</td><td>4062964299525805952</td><td>1665144735</td><td>2015.5</td><td>272.2378287453136</td><td>1.276152153583349</td><td>-27.6459156411923</td><td>0.8306178540097751</td><td>1851.8821404624455</td><td>1.2850939446366927</td><td>1441.0481</td><td>355.55436218245313</td><td>1.7573297422185719</td><td>101.24498177197236</td><td>1.4618001375129908</td><td>-0.43398333</td><td>-0.7132168</td><td>-0.44008878</td><td>0.03945487</td><td>0.3361827</td><td>0.31407976</td><td>-0.3427063</td><td>0.21689497</td><td>0.19868423</td><td>0.15061675</td><td>70</td><td>0</td><td>70</td><td>0</td><td>5.449297</td><td>147.87448</td><td>2.8538893393382216</td><td>6.010710615373087</td><td>31</td><td>False</td><td>0.05801055</td><td>1.2813123639344806</td><td>0.21142287867000456</td><td>-0.08280161</td><td>8</td><td>6</td><td>1.8281295</td><td>0</td><td>9</td><td>False</td><td>70</td><td>264.19585398318526</td><td>2.633301084437427</td><td>100.328766</td><td>19.63355</td><td>0</td><td>nan</td><td>nan</td><td>nan</td><td>nan</td><td>0</td><td>nan</td><td>nan</td><td>nan</td><td>nan</td><td>nan</td><td>2</td><td>nan</td><td>nan</td><td>nan</td><td>nan</td><td>nan</td><td>0</td><td>nan</td><td>nan</td><td>nan</td><td>NOT_AVAILABLE</td><td>3.6907973452023333</td><td>-3.799366137612267</td><td>271.98764166973365</td><td>-4.222073792921714</td><td>-9223372036854775808</td><td>nan</td><td>nan</td><td>nan</td><td>nan</td><td>nan</td><td>nan</td><td>nan</td><td>nan</td><td>nan</td><td>-9223372036854775808</td><td>nan</td><td>nan</td><td>nan</td><td>nan</td><td>nan</td><td>nan</td><td>http://geadata.esac.esa.int/data-server/datalink/links?ID=4062964299525805952</td><td></td></tr>\n",
       "</table>"
      ],
      "text/plain": [
       "<Table length=5400>\n",
       "    solution_id     ...\n",
       "       int64        ...\n",
       "------------------- ...\n",
       "1635721458409799680 ...\n",
       "1635721458409799680 ...\n",
       "1635721458409799680 ...\n",
       "1635721458409799680 ...\n",
       "1635721458409799680 ...\n",
       "1635721458409799680 ...\n",
       "1635721458409799680 ...\n",
       "1635721458409799680 ...\n",
       "1635721458409799680 ...\n",
       "1635721458409799680 ...\n",
       "                ... ...\n",
       "1635721458409799680 ...\n",
       "1635721458409799680 ...\n",
       "1635721458409799680 ...\n",
       "1635721458409799680 ...\n",
       "1635721458409799680 ...\n",
       "1635721458409799680 ...\n",
       "1635721458409799680 ...\n",
       "1635721458409799680 ...\n",
       "1635721458409799680 ...\n",
       "1635721458409799680 ..."
      ]
     },
     "execution_count": 143,
     "metadata": {},
     "output_type": "execute_result"
    }
   ],
   "source": [
    "gaia20"
   ]
  },
  {
   "cell_type": "code",
   "execution_count": null,
   "metadata": {},
   "outputs": [],
   "source": []
  }
 ],
 "metadata": {
  "anaconda-cloud": {},
  "kernelspec": {
   "display_name": "Python 3",
   "language": "python",
   "name": "python3"
  },
  "language_info": {
   "codemirror_mode": {
    "name": "ipython",
    "version": 3
   },
   "file_extension": ".py",
   "mimetype": "text/x-python",
   "name": "python",
   "nbconvert_exporter": "python",
   "pygments_lexer": "ipython3",
   "version": "3.7.6"
  }
 },
 "nbformat": 4,
 "nbformat_minor": 1
}

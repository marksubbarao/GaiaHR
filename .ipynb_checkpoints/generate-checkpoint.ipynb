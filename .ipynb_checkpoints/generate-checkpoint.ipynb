{
 "cells": [
  {
   "cell_type": "markdown",
   "metadata": {},
   "source": [
    "# Gaia HR\n",
    "\n",
    "### Nearby Gaia Stars with proper motions (some radial velocities) wwith a morphing HR diagram\n",
    "\n",
    "Jackie Faherty AMNH, Aaron Geller, Mark SubbaRao, Adler Planetarium."
   ]
  },
  {
   "cell_type": "markdown",
   "metadata": {},
   "source": [
    "### Imports and function definitions"
   ]
  },
  {
   "cell_type": "code",
   "execution_count": 2,
   "metadata": {},
   "outputs": [],
   "source": [
    "#This directory contains all the data needed for the module. It should be in the same directory as the notebook\n",
    "dataFolder = \"data\" \n",
    "import sys, os, shutil, errno, string, urllib\n",
    "\n",
    "\n",
    "sys.path.append(( os.path.abspath( os.path.join(os.path.realpath(\"__file__\"), os.pardir, os.pardir) )))\n",
    "import uvmodlib.v1 as uvmod"
   ]
  },
  {
   "cell_type": "code",
   "execution_count": 15,
   "metadata": {},
   "outputs": [],
   "source": [
    "from config import Settings\n",
    "Settings.uvcustommodulelocation='C:\\\\Users\\\\msubbarao\\\\SCISS\\\\Uniview Theater 3.0\\\\Custom Modules'"
   ]
  },
  {
   "cell_type": "markdown",
   "metadata": {},
   "source": [
    "### USES Conf Template for Gaia HR"
   ]
  },
  {
   "cell_type": "code",
   "execution_count": 56,
   "metadata": {},
   "outputs": [],
   "source": [
    "GaiaHRTemplate='''mesh\n",
    "{\n",
    "    data gaiaData    ./modules/$folderName/GaiaHR.uvstream\n",
    "\n",
    "    cullRadius $cr\n",
    "    glslVersion 330\n",
    "\n",
    "    propertyCollection\n",
    "    {\n",
    "        __objectName__\n",
    "        {\n",
    "            vec1f HRmix 0.0 | public | desc \"mixing angle for HR diagram (0 is star positions, 1 is HR diagram)\"  | widget slider | range 0 1         \n",
    "            vec1f starSize 0.2 | public | desc \" star size\" \n",
    "        }\n",
    "\n",
    "    }\n",
    "    \n",
    "    pass \n",
    "    {\n",
    "        passEnable true\n",
    "\n",
    "        useDataObject gaiaData\n",
    "\n",
    "        shader\n",
    "        {\n",
    "            type defaultMeshShader\n",
    "            {        \n",
    "                stateManagerVar __objectName__.Alpha                uv_alpha\n",
    "                StateManagerVar __objectName__.starSize starSize\n",
    "                StateManagerVar __objectName__.HRmix HRmix\n",
    "\n",
    "                vertexShader ./modules/$folderName/gaia_shader.vs\n",
    "                fragmentShader ./modules/$folderName/gaia_shader.fs                \n",
    "                geometryShader ./modules/$folderName/gaia_shader.gs\n",
    "                texture viridis ./modules/$folderName/viridis.png\n",
    "                {\n",
    "                    wrapModeS GL_CLAMP_TO_EDGE\n",
    "                    wrapModeR GL_CLAMP_TO_EDGE\n",
    "                }\n",
    "\n",
    "                glState\n",
    "                {\n",
    "                    UV_CULL_FACE_ENABLE false\n",
    "                    UV_DEPTH_ENABLE true\n",
    "                    UV_BLEND_ENABLE true\n",
    "                    UV_WRITE_MASK_DEPTH true\n",
    "                    #UV_BLEND_FUNC GL_ONE GL_ONE_MINUS_SRC_ALPHA\n",
    "                }\n",
    "             }\n",
    "        }\n",
    "    }\n",
    "}\n",
    "\n",
    "'''"
   ]
  },
  {
   "cell_type": "markdown",
   "metadata": {},
   "source": [
    "## UVStream"
   ]
  },
  {
   "cell_type": "code",
   "execution_count": 57,
   "metadata": {},
   "outputs": [],
   "source": [
    "UVSTREAM='''<?xml version=\"1.0\" encoding=\"UTF-8\" standalone=\"no\"?>\n",
    "<DataStream version=\"0.1\">\n",
    "    <PrimitiveType>points</PrimitiveType>\n",
    "    <DataBindings>\n",
    "        <Variable>\n",
    "            <Name>starPositions</Name>         \n",
    "            <Type>vec3f</Type>\n",
    "        </Variable>             \n",
    "        <Variable>\n",
    "            <Name>starVelocities</Name>         \n",
    "            <Type>vec3f</Type>\n",
    "        </Variable>             \n",
    "        <Variable>\n",
    "            <Name>pmra</Name>         \n",
    "            <Type>float</Type>\n",
    "        </Variable>             \n",
    "        <Variable>\n",
    "            <Name>pmdec</Name>         \n",
    "            <Type>float</Type>\n",
    "        </Variable>             \n",
    "        <Variable>\n",
    "            <Name>Absgmag</Name>         \n",
    "            <Type>float</Type>\n",
    "        </Variable>             \n",
    "        <Variable>\n",
    "            <Name>gmag</Name>         \n",
    "            <Type>float</Type>\n",
    "        </Variable>             \n",
    "        <Variable>\n",
    "            <Name>rmag</Name>         \n",
    "            <Type>float</Type>\n",
    "        </Variable>             \n",
    "        <Variable>\n",
    "            <Name>w2mpro</Name>         \n",
    "            <Type>float</Type>\n",
    "        </Variable>             \n",
    "    </DataBindings>\n",
    "\n",
    "    <CSVData>\n",
    "        <Path>20pcsample-WISE_forUniview.csv</Path>\n",
    "        <Headers>\n",
    "            <Variable>              \n",
    "                <Cols>0,1,2</Cols>\n",
    "            </Variable>\n",
    "            <Variable>              \n",
    "                <Cols>3,4,5</Cols>\n",
    "            </Variable>                     \n",
    "            <Variable>              \n",
    "                <Cols>6</Cols>\n",
    "            </Variable >                     \n",
    "            <Variable>             \n",
    "                <Cols>7</Cols>\n",
    "            </Variable>                     \n",
    "            <Variable>              \n",
    "                <Cols>8</Cols>\n",
    "            </Variable>                     \n",
    "            <Variable>              \n",
    "                <Cols>9</Cols>\n",
    "            </Variable>                     \n",
    "           <Variable>              \n",
    "                <Cols>10</Cols>\n",
    "            </Variable>                     \n",
    "            <Variable>              \n",
    "                <Cols>11</Cols>\n",
    "            </Variable>                     \n",
    "         </Headers>\n",
    "    </CSVData>\n",
    "</DataStream>  \n",
    "'''"
   ]
  },
  {
   "cell_type": "code",
   "execution_count": 58,
   "metadata": {},
   "outputs": [],
   "source": [
    "uvStreamFile=open('data/GaiaHR.uvstream','w')\n",
    "uvStreamFile.write(UVSTREAM)\n",
    "uvStreamFile.close()"
   ]
  },
  {
   "cell_type": "markdown",
   "metadata": {},
   "source": [
    "### GaiaHR Class"
   ]
  },
  {
   "cell_type": "code",
   "execution_count": 59,
   "metadata": {},
   "outputs": [],
   "source": [
    "class gaiaHRClass():\n",
    "    def __init__(self, object):\n",
    "        self.object = object\n",
    "        uvmod.Utility.ensurerelativepathexsists(\"gaia_shader.gs\",dataFolder)\n",
    "        uvmod.Utility.ensurerelativepathexsists(\"gaia_shader.vs\",dataFolder)\n",
    "        uvmod.Utility.ensurerelativepathexsists(\"gaia_shader.fs\",dataFolder)\n",
    "        self.ColorMultiplier = \"1 1 1 1\"\n",
    "        self.Scale = 1\n",
    "        self.cr = 1000\n",
    "    def setColorMultiplier(self,ColorMultiplier):\n",
    "        self.ColorMultiplier = \" \".join(str(c) for c in ColorMultiplier)\n",
    "    def setScale(self,Scale):\n",
    "        self.Scale = Scale\n",
    "    def setRotationAngle(self,RotationAngle):\n",
    "        self.RotationAngle = RotationAngle\n",
    "    def generatemod(self):\n",
    "        self.object.setgeometry(self.object.name+\"Mesh.usesconf\")\n",
    "        return self.object.generatemod()\n",
    "    def generatefiles(self, absOutDir, relOutDir):\n",
    "        fileName = self.object.name+\"Mesh.usesconf\"\n",
    "        s = string.Template(GaiaHRTemplate)\n",
    "        f = open(absOutDir+\"\\\\\"+fileName, 'w')\n",
    "        if f:\n",
    "            f.write(s.substitute(folderName = relOutDir,\n",
    "                                 cr = self.cr,\n",
    "                                 ColorMultiplier = self.ColorMultiplier,\n",
    "                                 Scale = self.Scale))\n",
    "            f.close()\n",
    "        uvmod.Utility.copyfoldercontents(os.getcwd()+\"\\\\\"+dataFolder, absOutDir)"
   ]
  },
  {
   "cell_type": "markdown",
   "metadata": {},
   "source": [
    "### Object Instantiation"
   ]
  },
  {
   "cell_type": "code",
   "execution_count": 60,
   "metadata": {},
   "outputs": [],
   "source": [
    "gaiaHR = gaiaHRClass(uvmod.OrbitalObject())\n",
    "generator = uvmod.Generator()\n",
    "scene = uvmod.Scene()\n",
    "modinfo = uvmod.ModuleInformation()"
   ]
  },
  {
   "cell_type": "markdown",
   "metadata": {},
   "source": [
    "### Specify Settings and generate the module"
   ]
  },
  {
   "cell_type": "code",
   "execution_count": 62,
   "metadata": {},
   "outputs": [],
   "source": [
    "gaiaHR.object.showatstartup(True)\n",
    "gaiaHR.object.setcameraradius(10)\n",
    "gaiaHR.object.setcoord(\"MilkyWay\")\n",
    "gaiaHR.object.setname(\"GaiaHR\")\n",
    "gaiaHR.object.setguiname(\"/Milky Way/GaiaHR\")\n",
    "gaiaHR.object.settargetradius(20)\n",
    "gaiaHR.object.showatstartup(False)\n",
    "gaiaHR.setColorMultiplier((1.,1.,1.,1.))\n",
    "gaiaHR.cr = 100\n",
    "\n",
    "\n",
    "modinfo.setname(\"Gaia HR diagram\")\n",
    "modinfo.setauthor(\"Jackie Faherty<sup>1</sup>Mark SubbaRao<sup>2</sup> and Aaron Gellers<sup>2</sup><br />(1)AMNH,<br />(2)Adler Planetarium\")\n",
    "modinfo.cleardependencies()\n",
    "modinfo.setdesc(\"Nearby Stars from the Gaia Survey <br/> \")\n",
    "#modinfo.setthumbnail(\"data/thumb.png\")\n",
    "modinfo.setversion(\"1.0\")\n",
    "\n",
    "generator.generate(\"gaiaHR\",[],[gaiaHR],modinfo)\n",
    "uvmod.Utility.senduvcommand(gaiaHR.object.name+\".reload\")\n"
   ]
  },
  {
   "cell_type": "markdown",
   "metadata": {},
   "source": [
    "### Helper Functions for modifing code\n",
    "##### Reload Module and Shaders in Uniview"
   ]
  },
  {
   "cell_type": "code",
   "execution_count": 20,
   "metadata": {
    "scrolled": true
   },
   "outputs": [],
   "source": [
    "uvmod.Utility.senduvcommand(neutrinoSky.object.name+\".reload\")"
   ]
  },
  {
   "cell_type": "markdown",
   "metadata": {},
   "source": [
    "Copy modified Shader files and reload"
   ]
  },
  {
   "cell_type": "code",
   "execution_count": 28,
   "metadata": {},
   "outputs": [],
   "source": [
    "from config import Settings\n"
   ]
  },
  {
   "cell_type": "code",
   "execution_count": 90,
   "metadata": {
    "scrolled": true
   },
   "outputs": [],
   "source": [
    "uvmod.Utility.copyfoldercontents(os.getcwd()+\"\\\\\"+dataFolder, Settings.uvcustommodulelocation+'\\\\'+gaiaHR.object.name)\n",
    "uvmod.Utility.senduvcommand(gaiaHR.object.name+\".reload\")"
   ]
  },
  {
   "cell_type": "code",
   "execution_count": null,
   "metadata": {
    "collapsed": true
   },
   "outputs": [],
   "source": []
  }
 ],
 "metadata": {
  "anaconda-cloud": {},
  "kernelspec": {
   "display_name": "Python 3",
   "language": "python",
   "name": "python3"
  },
  "language_info": {
   "codemirror_mode": {
    "name": "ipython",
    "version": 3
   },
   "file_extension": ".py",
   "mimetype": "text/x-python",
   "name": "python",
   "nbconvert_exporter": "python",
   "pygments_lexer": "ipython3",
   "version": "3.7.6"
  }
 },
 "nbformat": 4,
 "nbformat_minor": 1
}
